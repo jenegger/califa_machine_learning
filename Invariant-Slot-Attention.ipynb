{
 "cells": [
  {
   "cell_type": "markdown",
   "id": "2126b1ff",
   "metadata": {},
   "source": [
    "# Invariant Slot Attention\n",
    "\n",
    "**Goal:** I sort of thad this intuition for awhile that I want to be able to encode \"circleness\" into the slot representations that we're learning.\n",
    "\n",
    "This idea from the SA follow-up paper is not _exactly_ the same as this, but I think it's going in this direction!\n",
    "\n",
    "**Other optimization tricks included in this paper:**\n",
    "- Cosine decay (instead of exponential decay)\n",
    "- Use ResNet-34 as the image feature extractor model for \n",
    "    * They did modify the base block of this model to have stride 1 instead of 3\n",
    "- They do also add a $\\delta$ division with the positional embedding (they set $\\delta = 5$).\n",
    "   "
   ]
  },
  {
   "cell_type": "code",
   "execution_count": 1,
   "id": "641b989e",
   "metadata": {},
   "outputs": [],
   "source": [
    "import torch\n",
    "import numpy as np\n",
    "import pandas as pd\n",
    "\n",
    "import matplotlib.pyplot as plt\n",
    "import matplotlib as mlp\n",
    "from mpl_toolkits.axes_grid1 import make_axes_locatable\n",
    "\n",
    "import json, yaml, os\n",
    "os.sys.path.append('code')\n",
    "\n",
    "from plotting import plot_kslots, plot_kslots_iters\n",
    "from data import make_batch\n",
    "from model import SoftPositionalEmbed, build_grid\n",
    "from torch.nn import init\n",
    "#from train import hungarian_matching\n",
    "\n",
    "import torch\n",
    "import torch.nn.functional as F\n",
    "\n",
    "%load_ext autoreload\n",
    "%autoreload 2"
   ]
  },
  {
   "cell_type": "code",
   "execution_count": 2,
   "id": "c3ba7a77-900a-4332-b719-3ee097418c38",
   "metadata": {},
   "outputs": [],
   "source": [
    "def hungarian_matching(att, mask,bs, k_slots,max_n_rings,nPxiels):\n",
    "    '''\n",
    "    Hungarian section Translated from the TensorFlow loss function (from 2006.15055 code):\n",
    "    https://github.com/nhartman94/google-research/blob/master/slot_attention/utils.py#L26-L57\n",
    "    '''\n",
    "    \n",
    "    flat_mask = mask.reshape(-1,max_n_rings, nPixels*nPixels)[:,None,:,:]\n",
    "    \n",
    "    att_ext  = torch.tile(att,  dims=(1,1,max_n_rings,1)).reshape(bs * k_slots * max_n_rings , nPixels**2)\n",
    "    mask_ext = torch.tile(flat_mask,dims=(1,k_slots,1,1)).reshape(bs * k_slots * max_n_rings , nPixels**2)\n",
    "    \n",
    "    pairwise_cost = F.binary_cross_entropy(att_ext,mask_ext,reduction='none').mean(axis=-1)\n",
    "    pairwise_cost = pairwise_cost.reshape(bs, k_slots, max_n_rings)\n",
    "    \n",
    "    indices = list(map(linear_sum_assignment, pairwise_cost.cpu()))\n",
    "    indices = torch.LongTensor(indices)\n",
    "    return indices"
   ]
  },
  {
   "cell_type": "code",
   "execution_count": 3,
   "id": "15a470f3",
   "metadata": {},
   "outputs": [],
   "source": [
    "#tj original version\n",
    "#device = 'cuda:0'\n",
    "#tj version now\n",
    "device = 'cpu'"
   ]
  },
  {
   "cell_type": "code",
   "execution_count": 4,
   "id": "435c151d",
   "metadata": {},
   "outputs": [],
   "source": [
    "hps = {\n",
    "    'hidden_dim': 16,\n",
    "    'k_slots':3,\n",
    "    'query_dim':128,\n",
    "    'pixel_mult':0.2,\n",
    "    'device':device\n",
    "}"
   ]
  },
  {
   "cell_type": "markdown",
   "id": "67f56524",
   "metadata": {},
   "source": [
    "**How was the data generator initialized?**\n",
    "- $x,y \\sim \\text{Unif}(-0.5, 0.5)$\n",
    "- $r \\sim \\text{Unif}(0.01, 0.05)$"
   ]
  },
  {
   "cell_type": "code",
   "execution_count": 5,
   "id": "3ed4d9a5",
   "metadata": {},
   "outputs": [],
   "source": [
    "stdlow,stdhigh = 0.01, 0.05\n",
    "from copy import copy"
   ]
  },
  {
   "cell_type": "code",
   "execution_count": 6,
   "id": "53dcabb7",
   "metadata": {},
   "outputs": [],
   "source": [
    "class InvariantSlotAttention(torch.nn.Module):\n",
    "    def __init__(self, \n",
    "                 resolution=(32,32),\n",
    "                 xlow=-0.5,\n",
    "                 xhigh=0.5,\n",
    "                 k_slots=3, \n",
    "                 num_conv_layers=3,\n",
    "                 hidden_dim=32, \n",
    "                 final_cnn_relu=False,\n",
    "                 query_dim=32, \n",
    "                 n_iter=2,\n",
    "                 pixel_mult=1,\n",
    "                 device='cpu' \n",
    "                 ):\n",
    "        '''\n",
    "        Slot attention encoder block with positional embedding\n",
    "\n",
    "        Inputs:\n",
    "        - resolution \n",
    "        - k_slots (default 3): number of slots (note, can vary between training and test time)\n",
    "        - num_conv_layers: # of convolutional layers to apply (google paper has 4)\n",
    "        - hidden_dim (default 32): The hidden dimension for the CNN (currently single layer w/ no non-linearities)\n",
    "        - final_cnn_relu: Whether to apply the final cnn relu for these experiments (use true to mimic google repo)\n",
    "        - query_dim (default 32): The latent space dimension that the slots and the queries get computed in\n",
    "        - n_iter (default  2): Number of slot attention steps to apply (defualt 2)\n",
    "        - T (str): Softmax temperature for scaling the logits \n",
    "            * default: 1/sqrt(query_dim)\n",
    "        - device (str): Which device to put the model on.\n",
    "            Options: cpu (default), mps, cuda:{i}\n",
    "            Also used when drawing random samples for the query points \n",
    "            and the grid generation for the positional encoding\n",
    "        '''\n",
    "        super().__init__()\n",
    "\n",
    "        self.k_slots = k_slots\n",
    "        self.hidden_dim = hidden_dim\n",
    "        self.query_dim = query_dim\n",
    "        self.n_iter = n_iter\n",
    "\n",
    "        self.resolution = resolution\n",
    "        self.xlow, self.xhigh = xlow, xhigh\n",
    "        \n",
    "        self.device=device\n",
    "         \n",
    "        self.softmax_T = 1/np.sqrt(query_dim)\n",
    "        \n",
    "        self.dataN = torch.nn.LayerNorm(self.hidden_dim)\n",
    "        self.queryN = torch.nn.LayerNorm(self.query_dim)\n",
    "        \n",
    "        self.toK = torch.nn.Linear(self.hidden_dim, self.query_dim)\n",
    "        self.toV = torch.nn.Linear(self.hidden_dim, self.query_dim)\n",
    "        self.gru = torch.nn.GRUCell(self.query_dim, self.query_dim)\n",
    "\n",
    "        kwargs = {'out_channels': hidden_dim,'kernel_size': 5, 'padding':2 }\n",
    "        cnn_layers = [torch.nn.Conv2d(1,**kwargs)]\n",
    "        for i in range(num_conv_layers-1):\n",
    "            cnn_layers += [torch.nn.ReLU(), torch.nn.Conv2d(hidden_dim,**kwargs)] \n",
    "            \n",
    "        if final_cnn_relu:\n",
    "            cnn_layers.append(torch.nn.ReLU())\n",
    "\n",
    "        self.CNN_encoder = torch.nn.Sequential(*cnn_layers)\n",
    "            \n",
    "        '''\n",
    "        Positional embedding inputs\n",
    "        '''\n",
    "        self.abs_grid = self.build_grid()\n",
    "        \n",
    "        self.dense = torch.nn.Linear(2, query_dim) \n",
    "        self.pixel_mult = pixel_mult # LH's proposal... but almost same as 1/delta in ISA\n",
    "\n",
    "        # Apply after the data normalization\n",
    "        self.init_mlp = torch.nn.Sequential(\n",
    "            torch.nn.Linear(query_dim,query_dim),\n",
    "            torch.nn.ReLU(),\n",
    "            torch.nn.Linear(query_dim,query_dim)\n",
    "        )\n",
    "           \n",
    "        '''\n",
    "        Slot initialization setup\n",
    "        '''\n",
    "        self.slots_mu = torch.nn.Parameter(torch.randn(1, 1, self.query_dim,device=device))\n",
    "        self.slots_logsigma = torch.nn.Parameter(torch.zeros(1, 1, self.query_dim,device=device))\n",
    "        init.xavier_uniform_(self.slots_logsigma)\n",
    "\n",
    "        self.init_slots = self.init_slots\n",
    "\n",
    "    def build_grid(self):\n",
    "        '''\n",
    "        From google slot attention repo:\n",
    "        https://github.com/nhartman94/google-research/blob/master/slot_attention/model.py#L357C1-L364C53\n",
    "        '''\n",
    "        resolution = self.resolution\n",
    "        xlow, xhigh = self.xlow, self.xhigh\n",
    "           \n",
    "        ranges = [np.linspace(xlow, xhigh, num=res) for res in resolution]\n",
    "        grid = np.meshgrid(*ranges, sparse=False, indexing=\"ij\")\n",
    "        grid = np.stack(grid, axis=-1)\n",
    "        grid = np.reshape(grid, [resolution[0], resolution[1], -1])\n",
    "        grid = np.expand_dims(grid, axis=0)\n",
    "        # grid = grid.astype(np.float32)\n",
    "        \n",
    "        # Now make it a pytorch tensor\n",
    "        grid = torch.FloatTensor( grid ).to(device)\n",
    "        grid = torch.flatten(grid,1,2)\n",
    "    \n",
    "        return grid\n",
    "        \n",
    "    def init_slots(self,Nbatch):\n",
    "        '''\n",
    "        Slot init taken from\n",
    "        https://github.com/lucidrains/slot-attention/blob/master/slot_attention/slot_attention.py\n",
    "        '''\n",
    "        mu = self.slots_mu.expand(Nbatch, self.k_slots, -1)\n",
    "        sigma = self.slots_logsigma.exp().expand(Nbatch, self.k_slots, -1)\n",
    "    \n",
    "        queries = mu + sigma * torch.randn(mu.shape,device=device)\n",
    "    \n",
    "        # Add the position and scale initialization for the local ref frame\n",
    "        ref_frame_dim = 3\n",
    "        pos_scale = torch.rand(Nbatch, self.k_slots, ref_frame_dim,device=device)\n",
    "\n",
    "        pos_scale[:,:2] -= 0.5\n",
    "        pos_scale[:,-1]  = (stdhigh - stdlow) * pos_scale[:,-1] + stdlow\n",
    "        \n",
    "        return queries, pos_scale\n",
    "    \n",
    "    def get_keys_vals(self, encoded_data, pos_scale):\n",
    "\n",
    "        # Get the relative position embedding\n",
    "        rel_grid = self.abs_grid.unsqueeze(1) - pos_scale[:,:,:2].unsqueeze(2)\n",
    "        rel_grid /= pos_scale[:,:,-1].unsqueeze(2).unsqueeze(-1)\n",
    "        \n",
    "        # Embed it in the same space as the query dimension \n",
    "        embed_grid = self.pixel_mult * self.dense( rel_grid )\n",
    "        \n",
    "        # keys, vals: (bs, img_dim, query_dim)\n",
    "        keys = m.toK(encoded_data).unsqueeze(1) + embed_grid\n",
    "        vals = m.toV(encoded_data).unsqueeze(1) + embed_grid\n",
    "        \n",
    "        keys = self.init_mlp(self.queryN(keys))\n",
    "        vals = self.init_mlp(self.queryN(vals))\n",
    "        \n",
    "        return keys, vals\n",
    "                \n",
    "    def attention_and_weights(self,queries,keys):\n",
    "        \n",
    "        logits = torch.einsum('bse,bsde->bsd',queries,keys) * self.softmax_T\n",
    "        \n",
    "        att = torch.nn.functional.softmax(logits, dim = 1)\n",
    "        \n",
    "        div = torch.sum(att, dim = -1, keepdims = True)\n",
    "        wts = att/div + 1e-8\n",
    "        return att,wts\n",
    "\n",
    "    def update_frames(self,wts):\n",
    "        '''\n",
    "        Update the relative frame position\n",
    "        '''\n",
    "        \n",
    "        # expand to include the batch dim\n",
    "        grid_exp = self.abs_grid.expand(wts.shape[0],-1,2)\n",
    "        \n",
    "        new_pos = torch.einsum('bsd,bde->bse',wts,grid_exp)\n",
    "        \n",
    "        new_scale = torch.sum(torch.pow(grid_exp.unsqueeze(1) - new_pos.unsqueeze(2),2),dim=-1)\n",
    "        \n",
    "        new_scale = torch.einsum('bsd,bsd->bs', wts, new_scale)\n",
    "        new_scale = torch.sqrt(new_scale)\n",
    "        \n",
    "        return torch.cat([new_pos,new_scale.unsqueeze(-1)],axis=-1)\n",
    "        \n",
    "    def iterate(self, queries, pos_scale, encoded_data):\n",
    "        \n",
    "        # Get the keys and values in the ref ref frame\n",
    "        keys, vals = self.get_keys_vals(encoded_data,pos_scale)\n",
    "        \n",
    "        # att,wts: (bs, k_slots, img_dim)\n",
    "        att,wts = self.attention_and_weights(self.queryN(queries),keys)   \n",
    "        \n",
    "        new_pos_scale = self.update_frames(wts)\n",
    "        \n",
    "        # Update the queries with the recurrent block\n",
    "        updates = torch.einsum('bsd,bsde->bse',wts,vals) # bs, n_slots, query_dim\n",
    "        \n",
    "        updates = self.gru(\n",
    "            updates.reshape(-1,self.query_dim),\n",
    "            queries.reshape(-1,self.query_dim),\n",
    "        )\n",
    "        \n",
    "        return updates.reshape(queries.shape), new_pos_scale\n",
    "        \n",
    "    def forward(self, data, return_init=False):\n",
    "    \n",
    "        '''\n",
    "        Step 1: Extract the CNN features\n",
    "        '''\n",
    "        encoded_data = self.CNN_encoder(data) # Apply the CNN encoder\n",
    "        encoded_data = torch.permute(encoded_data,(0,2,3,1)) # Put channel dim at the end\n",
    "        encoded_data = torch.flatten(encoded_data,1,2) # flatten pixel dims\n",
    "        encoded_data = self.dataN(encoded_data)\n",
    "        \n",
    "        '''\n",
    "        Step 2: Initialize the slots\n",
    "        '''\n",
    "        Nbatch = data.shape[0]\n",
    "        \n",
    "        # Initialize the queries and pos_scale\n",
    "        queries, pos_scale = self.init_slots(Nbatch) # Shape (Nbatch, k_slots, query_dim)\n",
    "        \n",
    "        init_queries = copy(queries)\n",
    "        init_pos = copy(pos_scale)\n",
    "        \n",
    "        '''\n",
    "        Step 3: Iterate through the reconstruction\n",
    "        '''\n",
    "        for i in range(self.n_iter):\n",
    "            queries, pos_scale = self.iterate(queries, pos_scale, encoded_data)    \n",
    "            \n",
    "        # With the final query vector, calc the attn, weights, + rel ref frames\n",
    "        keys, vals = self.get_keys_vals(encoded_data,pos_scale)\n",
    "        att, wts = self.attention_and_weights(self.queryN(queries),keys)   \n",
    "        new_pos_scale = self.update_frames(wts)\n",
    "        \n",
    "        if return_init:\n",
    "            return queries, new_pos_scale, att, wts, init_queries, init_pos \n",
    "        else:\n",
    "            return queries, new_pos_scale, att, wts"
   ]
  },
  {
   "cell_type": "code",
   "execution_count": 7,
   "id": "b39e6727",
   "metadata": {},
   "outputs": [],
   "source": [
    "m = InvariantSlotAttention(**hps).to(device)"
   ]
  },
  {
   "cell_type": "code",
   "execution_count": 8,
   "id": "d60ddfaf",
   "metadata": {},
   "outputs": [],
   "source": [
    "# m.load_state_dict(torch.load('code/models/test-isa/m_161.pt'))"
   ]
  },
  {
   "cell_type": "code",
   "execution_count": 9,
   "id": "19fc6ec6",
   "metadata": {},
   "outputs": [],
   "source": [
    "nPixels=32\n",
    "from scipy.optimize import linear_sum_assignment"
   ]
  },
  {
   "cell_type": "code",
   "execution_count": 10,
   "id": "ece367e0",
   "metadata": {},
   "outputs": [],
   "source": [
    "def train_ISA(model, \n",
    "          Ntrain = 5000, \n",
    "          bs=32, \n",
    "          lr=3e-4,\n",
    "          warmup_steps=5_000,\n",
    "          losses = [],\n",
    "          kwargs={'isRing': True, 'N_clusters':2},\n",
    "          device='cpu',\n",
    "          plot_every=250, \n",
    "          save_every=1000,\n",
    "          color='C0',cmap='Blues',\n",
    "          modelDir='.',figDir='',showImg=True):\n",
    "    '''\n",
    "    Same arg as train, rn just modifying for more outputs\n",
    "    '''\n",
    "\n",
    "    # Learning rate schedule config\n",
    "    base_learning_rate = lr\n",
    "    opt = torch.optim.Adam(model.parameters(), lr)\n",
    "    \n",
    "    model.train()\n",
    "    \n",
    "    k_slots = model.k_slots\n",
    "    resolution = model.resolution\n",
    "    kwargs['device'] = device\n",
    "\n",
    "    max_n_rings = kwargs['N_clusters']\n",
    "    isRing = kwargs[\"isRing\"]\n",
    "    print(f'Training model with {k_slots} slots on {max_n_rings}'+ (\"rings\" if isRing else \"blobs\"))\n",
    "\n",
    "    start = len(losses)\n",
    "    for i in range(start,start+Ntrain):\n",
    "           \n",
    "        learning_rate = base_learning_rate * 0.5 * (1 + np.cos(np.pi * i / Ntrain))\n",
    "        if i < warmup_steps:\n",
    "            learning_rate *= (i / warmup_steps)\n",
    "        \n",
    "        opt.param_groups[0]['lr'] = learning_rate\n",
    "            \n",
    "        X, Y, mask = make_batch(N_events=bs, **kwargs)\n",
    "        \n",
    "        opt.zero_grad()\n",
    "        out = model(X,return_init=True)\n",
    "        queries, pos_scale, att, wts, init_q, init_pos = out\n",
    "        if torch.isnan(init_q).sum() > 0 :\n",
    "            print('init_q is nan')\n",
    "        \n",
    "        if torch.isnan(att).sum() > 0 :\n",
    "        \n",
    "            print('# nan',torch.isnan(att).sum())\n",
    "            print('att',att)\n",
    "            print('try 2',torch.isnan(model(X)[2]).sum())\n",
    "            \n",
    "            # DEBUG: Save all sources of randomness\n",
    "            ks = ['queries', 'pos_scale', 'att', 'wts', 'init_q', 'init_pos']\n",
    "            data = {k: v.tolist() for k,v in zip(ks,out)}\n",
    "            with open() as f:\n",
    "                json.dump(data, f)\n",
    "            \n",
    "            return model, X,Y,mask, init_q, init_pos\n",
    "            \n",
    "        with torch.no_grad():\n",
    "            indices = hungarian_matching(att,mask,bs,k_slots,max_n_rings,resolution[0])\n",
    "        \n",
    "        # Apply the sorting to the predict\n",
    "        bis=torch.arange(bs).to(device)\n",
    "        indices=indices.to(device)\n",
    "\n",
    "        slots_sorted = torch.cat([att[bis,indices[:,0,ri]].unsqueeze(1) for ri in range(max_n_rings)],dim=1)\n",
    "        \n",
    "        flat_mask = mask.reshape(-1,max_n_rings, np.prod(resolution))\n",
    "        rings_sorted = torch.cat([flat_mask[bis,indices[:,1,ri]].unsqueeze(1) for ri in range(max_n_rings)],dim=1)\n",
    "\n",
    "        # Calculate the loss\n",
    "        loss = F.binary_cross_entropy(slots_sorted,rings_sorted,reduction='none').sum(axis=1).mean()\n",
    "        \n",
    "        # DEBUG: Save model before update\n",
    "        torch.save(model.state_dict(), f'{modelDir}/m_-2.pt')\n",
    "        \n",
    "        loss.backward()\n",
    "        opt.step()\n",
    "        \n",
    "        # DEBUG: Save model after update\n",
    "        torch.save(model.state_dict(), f'{modelDir}/m_-1.pt')\n",
    "        \n",
    "        losses.append(float(loss))\n",
    "            \n",
    "        if i % plot_every == 0:\n",
    "            \n",
    "            print('iter',i,', loss',loss.detach().cpu().numpy(),', lr',opt.param_groups[0]['lr'])\n",
    "            \n",
    "            iEvt = 0\n",
    "            att_img = att[iEvt].reshape(k_slots,*resolution)\n",
    "            plot_kslots(losses, \n",
    "                        mask[iEvt].sum(axis=0).detach().cpu().numpy(), \n",
    "                        att_img.detach().cpu().numpy(),\n",
    "                        k_slots, color=color,cmap=cmap,\n",
    "                        figname=f'{figDir}/loss-slots-iter{i}-evt{iEvt}.jpg',showImg=showImg)\n",
    "#             plot_kslots_iters(model, X, iEvt=0, color=color,cmap=cmap, \n",
    "#                               figname=f'{figDir}/slots-unroll-iter{i}-evt{iEvt}.jpg',showImg=showImg)\n",
    "            \n",
    "        if i % save_every == 0:\n",
    "            torch.save(model.state_dict(), f'{modelDir}/m_{i}.pt')\n",
    "            with open(f'{modelDir}/loss.json','w') as f:\n",
    "                json.dump(losses, f)\n",
    "                \n",
    "    model.eval()\n",
    "    return model,losses"
   ]
  },
  {
   "cell_type": "code",
   "execution_count": 11,
   "id": "502728f3",
   "metadata": {},
   "outputs": [],
   "source": [
    "cID = 'isa-cosine-decay'\n",
    "\n",
    "modelDir = f'code/models/{cID}'\n",
    "figDir = f'code/figures/{cID}'\n",
    "\n",
    "# for d in [modelDir,figDir]:\n",
    "#     os.mkdir(d)"
   ]
  },
  {
   "cell_type": "code",
   "execution_count": 12,
   "id": "d1463e11",
   "metadata": {},
   "outputs": [],
   "source": [
    "bs=128\n",
    "max_n_rings=2"
   ]
  },
  {
   "cell_type": "code",
   "execution_count": null,
   "id": "2f143a5d",
   "metadata": {},
   "outputs": [],
   "source": []
  },
  {
   "cell_type": "code",
   "execution_count": 13,
   "id": "55809731",
   "metadata": {},
   "outputs": [
    {
     "name": "stdout",
     "output_type": "stream",
     "text": [
      "Training model with 3 slots on 2rings\n"
     ]
    },
    {
     "name": "stderr",
     "output_type": "stream",
     "text": [
      "/home/tobias/Slot-Attention/code/data.py:94: RuntimeWarning: invalid value encountered in divide\n",
      "  eventMasks = np.where(eventHistograms>0,eventMasks/eventHistograms,eventMasks)\n",
      "/tmp/ipykernel_16632/4066790302.py:16: UserWarning: Creating a tensor from a list of numpy.ndarrays is extremely slow. Please consider converting the list to a single numpy.ndarray with numpy.array() before converting to a tensor. (Triggered internally at ../torch/csrc/utils/tensor_new.cpp:245.)\n",
      "  indices = torch.LongTensor(indices)\n"
     ]
    },
    {
     "name": "stdout",
     "output_type": "stream",
     "text": [
      "iter 0 , loss 0.8680555 , lr 0.0\n"
     ]
    },
    {
     "data": {
      "image/png": "[encoded data removed]",
      "text/plain": [
       "<Figure size 1375x250 with 9 Axes>"
      ]
     },
     "metadata": {},
     "output_type": "display_data"
    },
    {
     "name": "stderr",
     "output_type": "stream",
     "text": [
      "/home/tobias/Slot-Attention/code/data.py:94: RuntimeWarning: invalid value encountered in divide\n",
      "  eventMasks = np.where(eventHistograms>0,eventMasks/eventHistograms,eventMasks)\n"
     ]
    },
    {
     "name": "stdout",
     "output_type": "stream",
     "text": [
      "iter 50 , loss 0.855621 , lr 2.999988434072206e-06\n"
     ]
    },
    {
     "data": {
      "image/png": "[encoded data removed]",
      "text/plain": [
       "<Figure size 1375x250 with 9 Axes>"
      ]
     },
     "metadata": {},
     "output_type": "display_data"
    },
    {
     "name": "stderr",
     "output_type": "stream",
     "text": [
      "/home/tobias/Slot-Attention/code/data.py:94: RuntimeWarning: invalid value encountered in divide\n",
      "  eventMasks = np.where(eventHistograms>0,eventMasks/eventHistograms,eventMasks)\n"
     ]
    },
    {
     "name": "stdout",
     "output_type": "stream",
     "text": [
      "iter 100 , loss 0.8684398 , lr 5.999907472934369e-06\n"
     ]
    },
    {
     "data": {
      "image/png": "[encoded data removed]",
      "text/plain": [
       "<Figure size 1375x250 with 9 Axes>"
      ]
     },
     "metadata": {},
     "output_type": "display_data"
    },
    {
     "name": "stderr",
     "output_type": "stream",
     "text": [
      "/home/tobias/Slot-Attention/code/data.py:94: RuntimeWarning: invalid value encountered in divide\n",
      "  eventMasks = np.where(eventHistograms>0,eventMasks/eventHistograms,eventMasks)\n"
     ]
    },
    {
     "name": "stdout",
     "output_type": "stream",
     "text": [
      "iter 150 , loss 0.858283 , lr 8.999687723160046e-06\n"
     ]
    },
    {
     "data": {
      "image/png": "[encoded data removed]",
      "text/plain": [
       "<Figure size 1375x250 with 9 Axes>"
      ]
     },
     "metadata": {},
     "output_type": "display_data"
    },
    {
     "name": "stderr",
     "output_type": "stream",
     "text": [
      "/home/tobias/Slot-Attention/code/data.py:94: RuntimeWarning: invalid value encountered in divide\n",
      "  eventMasks = np.where(eventHistograms>0,eventMasks/eventHistograms,eventMasks)\n"
     ]
    },
    {
     "ename": "KeyboardInterrupt",
     "evalue": "",
     "output_type": "error",
     "traceback": [
      "\u001b[0;31m---------------------------------------------------------------------------\u001b[0m",
      "\u001b[0;31mKeyboardInterrupt\u001b[0m                         Traceback (most recent call last)",
      "Cell \u001b[0;32mIn[13], line 3\u001b[0m\n\u001b[1;32m      1\u001b[0m losses\u001b[38;5;241m=\u001b[39m[]\n\u001b[0;32m----> 3\u001b[0m out \u001b[38;5;241m=\u001b[39m \u001b[43mtrain_ISA\u001b[49m\u001b[43m(\u001b[49m\u001b[43mm\u001b[49m\u001b[43m,\u001b[49m\u001b[43mNtrain\u001b[49m\u001b[38;5;241;43m=\u001b[39;49m\u001b[38;5;241;43m40_000\u001b[39;49m\u001b[43m,\u001b[49m\u001b[43mbs\u001b[49m\u001b[38;5;241;43m=\u001b[39;49m\u001b[43mbs\u001b[49m\u001b[43m,\u001b[49m\u001b[43mdevice\u001b[49m\u001b[38;5;241;43m=\u001b[39;49m\u001b[43mdevice\u001b[49m\u001b[43m,\u001b[49m\n\u001b[1;32m      4\u001b[0m \u001b[43m                \u001b[49m\u001b[43mmodelDir\u001b[49m\u001b[38;5;241;43m=\u001b[39;49m\u001b[43mmodelDir\u001b[49m\u001b[43m,\u001b[49m\u001b[43mfigDir\u001b[49m\u001b[38;5;241;43m=\u001b[39;49m\u001b[43mfigDir\u001b[49m\u001b[43m,\u001b[49m\u001b[43mplot_every\u001b[49m\u001b[38;5;241;43m=\u001b[39;49m\u001b[38;5;241;43m50\u001b[39;49m\u001b[43m)\u001b[49m\n",
      "Cell \u001b[0;32mIn[10], line 80\u001b[0m, in \u001b[0;36mtrain_ISA\u001b[0;34m(model, Ntrain, bs, lr, warmup_steps, losses, kwargs, device, plot_every, save_every, color, cmap, modelDir, figDir, showImg)\u001b[0m\n\u001b[1;32m     77\u001b[0m \u001b[38;5;66;03m# DEBUG: Save model before update\u001b[39;00m\n\u001b[1;32m     78\u001b[0m torch\u001b[38;5;241m.\u001b[39msave(model\u001b[38;5;241m.\u001b[39mstate_dict(), \u001b[38;5;124mf\u001b[39m\u001b[38;5;124m'\u001b[39m\u001b[38;5;132;01m{\u001b[39;00mmodelDir\u001b[38;5;132;01m}\u001b[39;00m\u001b[38;5;124m/m_-2.pt\u001b[39m\u001b[38;5;124m'\u001b[39m)\n\u001b[0;32m---> 80\u001b[0m \u001b[43mloss\u001b[49m\u001b[38;5;241;43m.\u001b[39;49m\u001b[43mbackward\u001b[49m\u001b[43m(\u001b[49m\u001b[43m)\u001b[49m\n\u001b[1;32m     81\u001b[0m opt\u001b[38;5;241m.\u001b[39mstep()\n\u001b[1;32m     83\u001b[0m \u001b[38;5;66;03m# DEBUG: Save model after update\u001b[39;00m\n",
      "File \u001b[0;32m~/.local/lib/python3.10/site-packages/torch/_tensor.py:487\u001b[0m, in \u001b[0;36mTensor.backward\u001b[0;34m(self, gradient, retain_graph, create_graph, inputs)\u001b[0m\n\u001b[1;32m    477\u001b[0m \u001b[38;5;28;01mif\u001b[39;00m has_torch_function_unary(\u001b[38;5;28mself\u001b[39m):\n\u001b[1;32m    478\u001b[0m     \u001b[38;5;28;01mreturn\u001b[39;00m handle_torch_function(\n\u001b[1;32m    479\u001b[0m         Tensor\u001b[38;5;241m.\u001b[39mbackward,\n\u001b[1;32m    480\u001b[0m         (\u001b[38;5;28mself\u001b[39m,),\n\u001b[0;32m   (...)\u001b[0m\n\u001b[1;32m    485\u001b[0m         inputs\u001b[38;5;241m=\u001b[39minputs,\n\u001b[1;32m    486\u001b[0m     )\n\u001b[0;32m--> 487\u001b[0m \u001b[43mtorch\u001b[49m\u001b[38;5;241;43m.\u001b[39;49m\u001b[43mautograd\u001b[49m\u001b[38;5;241;43m.\u001b[39;49m\u001b[43mbackward\u001b[49m\u001b[43m(\u001b[49m\n\u001b[1;32m    488\u001b[0m \u001b[43m    \u001b[49m\u001b[38;5;28;43mself\u001b[39;49m\u001b[43m,\u001b[49m\u001b[43m \u001b[49m\u001b[43mgradient\u001b[49m\u001b[43m,\u001b[49m\u001b[43m \u001b[49m\u001b[43mretain_graph\u001b[49m\u001b[43m,\u001b[49m\u001b[43m \u001b[49m\u001b[43mcreate_graph\u001b[49m\u001b[43m,\u001b[49m\u001b[43m \u001b[49m\u001b[43minputs\u001b[49m\u001b[38;5;241;43m=\u001b[39;49m\u001b[43minputs\u001b[49m\n\u001b[1;32m    489\u001b[0m \u001b[43m\u001b[49m\u001b[43m)\u001b[49m\n",
      "File \u001b[0;32m~/.local/lib/python3.10/site-packages/torch/autograd/__init__.py:200\u001b[0m, in \u001b[0;36mbackward\u001b[0;34m(tensors, grad_tensors, retain_graph, create_graph, grad_variables, inputs)\u001b[0m\n\u001b[1;32m    195\u001b[0m     retain_graph \u001b[38;5;241m=\u001b[39m create_graph\n\u001b[1;32m    197\u001b[0m \u001b[38;5;66;03m# The reason we repeat same the comment below is that\u001b[39;00m\n\u001b[1;32m    198\u001b[0m \u001b[38;5;66;03m# some Python versions print out the first line of a multi-line function\u001b[39;00m\n\u001b[1;32m    199\u001b[0m \u001b[38;5;66;03m# calls in the traceback and some print out the last line\u001b[39;00m\n\u001b[0;32m--> 200\u001b[0m \u001b[43mVariable\u001b[49m\u001b[38;5;241;43m.\u001b[39;49m\u001b[43m_execution_engine\u001b[49m\u001b[38;5;241;43m.\u001b[39;49m\u001b[43mrun_backward\u001b[49m\u001b[43m(\u001b[49m\u001b[43m  \u001b[49m\u001b[38;5;66;43;03m# Calls into the C++ engine to run the backward pass\u001b[39;49;00m\n\u001b[1;32m    201\u001b[0m \u001b[43m    \u001b[49m\u001b[43mtensors\u001b[49m\u001b[43m,\u001b[49m\u001b[43m \u001b[49m\u001b[43mgrad_tensors_\u001b[49m\u001b[43m,\u001b[49m\u001b[43m \u001b[49m\u001b[43mretain_graph\u001b[49m\u001b[43m,\u001b[49m\u001b[43m \u001b[49m\u001b[43mcreate_graph\u001b[49m\u001b[43m,\u001b[49m\u001b[43m \u001b[49m\u001b[43minputs\u001b[49m\u001b[43m,\u001b[49m\n\u001b[1;32m    202\u001b[0m \u001b[43m    \u001b[49m\u001b[43mallow_unreachable\u001b[49m\u001b[38;5;241;43m=\u001b[39;49m\u001b[38;5;28;43;01mTrue\u001b[39;49;00m\u001b[43m,\u001b[49m\u001b[43m \u001b[49m\u001b[43maccumulate_grad\u001b[49m\u001b[38;5;241;43m=\u001b[39;49m\u001b[38;5;28;43;01mTrue\u001b[39;49;00m\u001b[43m)\u001b[49m\n",
      "\u001b[0;31mKeyboardInterrupt\u001b[0m: "
     ]
    }
   ],
   "source": [
    "losses=[]\n",
    "\n",
    "out = train_ISA(m,Ntrain=40_000,bs=bs,device=device,\n",
    "                modelDir=modelDir,figDir=figDir,plot_every=50)"
   ]
  },
  {
   "cell_type": "code",
   "execution_count": null,
   "id": "475f7903",
   "metadata": {},
   "outputs": [],
   "source": [
    "model, X,Y,mask, init_q, init_pos = out"
   ]
  },
  {
   "cell_type": "code",
   "execution_count": null,
   "id": "9fb21b5c",
   "metadata": {},
   "outputs": [],
   "source": [
    "queries, pos_scale, att, wts = model(X)"
   ]
  },
  {
   "cell_type": "code",
   "execution_count": null,
   "id": "6e4bab79",
   "metadata": {},
   "outputs": [],
   "source": [
    "att[4]"
   ]
  },
  {
   "cell_type": "markdown",
   "id": "54db73b0",
   "metadata": {},
   "source": [
    "**Ideas:**\n",
    "1. I could see if an L2 regularization would help\n",
    "- Plot the min and max of the model parameters over time\n",
    "2. Would gradient clipping help?\n",
    "- I feel like it seems more sus smth else in the opt pipeline rn"
   ]
  },
  {
   "cell_type": "code",
   "execution_count": null,
   "id": "92515c46",
   "metadata": {},
   "outputs": [],
   "source": [
    "encoded_data"
   ]
  },
  {
   "cell_type": "code",
   "execution_count": null,
   "id": "94708c08",
   "metadata": {},
   "outputs": [],
   "source": [
    "i_fail = 0"
   ]
  },
  {
   "cell_type": "code",
   "execution_count": null,
   "id": "ca0d3f2d",
   "metadata": {},
   "outputs": [],
   "source": [
    "encoded_data = model.CNN_encoder(X) # Apply the CNN encoder\n",
    "encoded_data = torch.permute(encoded_data,(0,2,3,1)) # Put channel dim at the end\n",
    "encoded_data = torch.flatten(encoded_data,1,2) # flatten pixel dims\n",
    "encoded_data = model.dataN(encoded_data)\n",
    "\n",
    "# Use the init Q from the failure mode\n",
    "queries = copy(init_q)\n",
    "pos_scale = copy(init_pos)\n",
    "\n",
    "'''\n",
    "Step 3: Iterate through the reconstruction\n",
    "'''\n",
    "for i in range(model.n_iter):\n",
    "    # queries, pos_scale = model.iterate(queries, pos_scale, encoded_data)    \n",
    "\n",
    "    print('t=',i)\n",
    "    \n",
    "    # Get the keys and values in the ref ref frame\n",
    "    keys, vals = model.get_keys_vals(encoded_data,pos_scale)\n",
    "\n",
    "    print('keys',keys[i_fail].isnan().sum().item(),f'max {keys[i_fail].max().item():.2f},min {keys[i_fail].min().item():.2f}')\n",
    "    print('vals',vals[i_fail].isnan().sum().item(),f'max {vals[i_fail].max().item():.2f},min {vals[i_fail].min().item():.2f}')\n",
    "    \n",
    "    # att,wts: (bs, k_slots, img_dim)\n",
    "    att,wts = model.attention_and_weights(model.queryN(queries),keys)   \n",
    "\n",
    "    print('att',att[i_fail].isnan().sum().item(),f'max {att[i_fail].max().item():.2f},min {att[i_fail].min().item():.2f}')\n",
    "    print('wts',wts[i_fail].isnan().sum().item(),f'max {wts[i_fail].max().item():.2f},min {wts[i_fail].min().item():.2f}')\n",
    "\n",
    "    new_pos_scale = model.update_frames(wts)\n",
    "\n",
    "    # Update the queries with the recurrent block\n",
    "    updates = torch.einsum('bsd,bsde->bse',wts,vals) # bs, n_slots, query_dim\n",
    "\n",
    "    updates = model.gru(\n",
    "        updates.reshape(-1,model.query_dim),\n",
    "        queries.reshape(-1,model.query_dim),\n",
    "    )\n",
    "\n",
    "    queries,pos_scale = updates.reshape(queries.shape), new_pos_scale\n",
    "    \n",
    "    \n",
    "    print(i,queries[i_fail],pos_scale[i_fail])\n",
    "    \n",
    "    break\n",
    "    \n",
    "    \n",
    "# # With the final query vector, calc the attn, weights, + rel ref frames\n",
    "# keys, vals = model.get_keys_vals(encoded_data,pos_scale)\n",
    "# att, wts = model.attention_and_weights(model.queryN(queries),keys)   \n",
    "# new_pos_scale = model.update_frames(wts)"
   ]
  },
  {
   "cell_type": "code",
   "execution_count": null,
   "id": "bf552a68",
   "metadata": {},
   "outputs": [],
   "source": [
    "X2, Y2, mask2 = make_batch(N_events=2,device=device, **{'isRing': True, 'N_clusters':2})\n",
    "        "
   ]
  },
  {
   "cell_type": "code",
   "execution_count": null,
   "id": "d9db65a1",
   "metadata": {},
   "outputs": [],
   "source": [
    "# m_cpu = model.to(device)"
   ]
  },
  {
   "cell_type": "code",
   "execution_count": null,
   "id": "3ada82b6",
   "metadata": {},
   "outputs": [],
   "source": [
    "model(X2)"
   ]
  },
  {
   "cell_type": "code",
   "execution_count": null,
   "id": "74ace16f",
   "metadata": {},
   "outputs": [],
   "source": []
  },
  {
   "cell_type": "code",
   "execution_count": null,
   "id": "45542aaa",
   "metadata": {},
   "outputs": [],
   "source": [
    "plt.hist(encoded_data.flatten().detach().cpu().numpy())"
   ]
  },
  {
   "cell_type": "code",
   "execution_count": null,
   "id": "50bea984",
   "metadata": {},
   "outputs": [],
   "source": [
    "# Get the relative position embedding\n",
    "rel_grid = model.abs_grid.unsqueeze(1) - init_pos[:,:,:2].unsqueeze(2)\n",
    "rel_grid /= init_pos[:,:,-1].unsqueeze(2).unsqueeze(-1)\n",
    "\n",
    "# Embed it in the same space as the query dimension \n",
    "embed_grid = model.pixel_mult * model.dense( rel_grid )\n",
    "\n",
    "# keys, vals: (bs, img_dim, query_dim)\n",
    "k0 = model.toK(encoded_data).unsqueeze(1) + embed_grid\n",
    "v0 = model.toV(encoded_data).unsqueeze(1) + embed_grid\n",
    "\n",
    "k0 = model.init_mlp(k0)\n",
    "v0 = model.init_mlp(v0)"
   ]
  },
  {
   "cell_type": "code",
   "execution_count": null,
   "id": "1883d245",
   "metadata": {},
   "outputs": [],
   "source": [
    "nb=100\n",
    "r=(-5,5)\n",
    "plt.hist(k0.flatten().detach().cpu().numpy(),nb,r,label='keys',\n",
    "         color='g',histtype='step',lw=2)\n",
    "plt.hist(v0.flatten().detach().cpu().numpy(),nb,r,label='values',\n",
    "         color='b',histtype='step',lw=2)\n",
    "\n",
    "plt.xlabel('features')\n",
    "plt.ylabel('entries')\n",
    "plt.legend()\n",
    "plt.show()"
   ]
  },
  {
   "cell_type": "code",
   "execution_count": null,
   "id": "d3f00b0f",
   "metadata": {},
   "outputs": [],
   "source": [
    "nb=100\n",
    "r=(-5,5)\n",
    "plt.hist(k0[i_fail].flatten().detach().cpu().numpy(),nb,r,label='keys',\n",
    "         color='g',histtype='step',lw=2)\n",
    "plt.hist(v0[i_fail].flatten().detach().cpu().numpy(),nb,r,label='values',\n",
    "         color='b',histtype='step',lw=2)\n",
    "\n",
    "plt.xlabel('features')\n",
    "plt.ylabel('entries')\n",
    "plt.title(f'Event {i_fail} (evt with nans)')\n",
    "plt.legend()\n",
    "plt.show()"
   ]
  },
  {
   "cell_type": "code",
   "execution_count": null,
   "id": "eb9d0eab",
   "metadata": {},
   "outputs": [],
   "source": [
    "k0[i_fail].shape"
   ]
  },
  {
   "cell_type": "code",
   "execution_count": null,
   "id": "bc560ac3",
   "metadata": {},
   "outputs": [],
   "source": [
    "k0[i_fail][abs(k0[i_fail])>100]"
   ]
  },
  {
   "cell_type": "code",
   "execution_count": null,
   "id": "5c5616b8",
   "metadata": {},
   "outputs": [],
   "source": [
    "v0[i_fail][abs(v0[i_fail])>100]"
   ]
  },
  {
   "cell_type": "code",
   "execution_count": null,
   "id": "ebfbfbd5",
   "metadata": {},
   "outputs": [],
   "source": [
    "for p in model.parameters():\n",
    "    print(p.shape,p)\n",
    "    # plt.hist(p.detach().cpu().numpy(),histtype='step')"
   ]
  },
  {
   "cell_type": "code",
   "execution_count": null,
   "id": "aef6425f",
   "metadata": {},
   "outputs": [],
   "source": [
    "losses"
   ]
  },
  {
   "cell_type": "code",
   "execution_count": null,
   "id": "d7fb79f3",
   "metadata": {},
   "outputs": [],
   "source": [
    "att.isnan().sum()"
   ]
  },
  {
   "cell_type": "code",
   "execution_count": null,
   "id": "8f5af4da",
   "metadata": {},
   "outputs": [],
   "source": [
    "for i, att_i in enumerate(att):\n",
    "    if att_i.isnan().sum() > 0:\n",
    "        print(i)"
   ]
  },
  {
   "cell_type": "code",
   "execution_count": null,
   "id": "4918ba8c",
   "metadata": {},
   "outputs": [],
   "source": [
    "i_fail = 23"
   ]
  },
  {
   "cell_type": "code",
   "execution_count": null,
   "id": "fe13e059",
   "metadata": {},
   "outputs": [],
   "source": [
    "init_q[i_fail]"
   ]
  },
  {
   "cell_type": "code",
   "execution_count": null,
   "id": "ae623f13",
   "metadata": {},
   "outputs": [],
   "source": [
    "init_pos[i_fail]"
   ]
  },
  {
   "cell_type": "code",
   "execution_count": null,
   "id": "abe42465",
   "metadata": {},
   "outputs": [],
   "source": []
  },
  {
   "cell_type": "code",
   "execution_count": null,
   "id": "bb6fc95c",
   "metadata": {},
   "outputs": [],
   "source": []
  },
  {
   "cell_type": "code",
   "execution_count": null,
   "id": "ee44c45a",
   "metadata": {},
   "outputs": [],
   "source": []
  },
  {
   "cell_type": "code",
   "execution_count": null,
   "id": "15a0a528",
   "metadata": {},
   "outputs": [],
   "source": [
    "np.prod(att.shape)"
   ]
  },
  {
   "cell_type": "code",
   "execution_count": null,
   "id": "f2db42e4",
   "metadata": {},
   "outputs": [],
   "source": []
  },
  {
   "cell_type": "code",
   "execution_count": null,
   "id": "641745a2",
   "metadata": {},
   "outputs": [],
   "source": [
    "init_q"
   ]
  },
  {
   "cell_type": "code",
   "execution_count": null,
   "id": "0eead814",
   "metadata": {},
   "outputs": [],
   "source": [
    "init_pos"
   ]
  },
  {
   "cell_type": "code",
   "execution_count": null,
   "id": "ad442c92",
   "metadata": {},
   "outputs": [],
   "source": []
  },
  {
   "cell_type": "code",
   "execution_count": null,
   "id": "51b47c11",
   "metadata": {},
   "outputs": [],
   "source": []
  },
  {
   "cell_type": "code",
   "execution_count": null,
   "id": "2203c80c",
   "metadata": {},
   "outputs": [],
   "source": []
  },
  {
   "cell_type": "code",
   "execution_count": null,
   "id": "d9b37eec",
   "metadata": {},
   "outputs": [],
   "source": [
    "copy(att)"
   ]
  },
  {
   "cell_type": "code",
   "execution_count": null,
   "id": "1491e1b5",
   "metadata": {},
   "outputs": [],
   "source": []
  },
  {
   "cell_type": "code",
   "execution_count": null,
   "id": "0435aa19",
   "metadata": {},
   "outputs": [],
   "source": []
  },
  {
   "cell_type": "code",
   "execution_count": null,
   "id": "00a7cf9f",
   "metadata": {},
   "outputs": [],
   "source": [
    "att.shape"
   ]
  },
  {
   "cell_type": "code",
   "execution_count": null,
   "id": "2f6ab3e3",
   "metadata": {},
   "outputs": [],
   "source": [
    "m,losses = out"
   ]
  },
  {
   "cell_type": "code",
   "execution_count": null,
   "id": "2b512431",
   "metadata": {},
   "outputs": [],
   "source": [
    "model, X,Y,mask = out"
   ]
  },
  {
   "cell_type": "code",
   "execution_count": null,
   "id": "3c48d6b7",
   "metadata": {},
   "outputs": [],
   "source": [
    "queries, pos_scale, att, wts = m(X)\n",
    "        \n",
    "print( torch.isnan(att).sum() >0 )"
   ]
  },
  {
   "cell_type": "code",
   "execution_count": null,
   "id": "dd5c3e96",
   "metadata": {},
   "outputs": [],
   "source": []
  },
  {
   "cell_type": "code",
   "execution_count": null,
   "id": "dac8f107",
   "metadata": {},
   "outputs": [],
   "source": []
  },
  {
   "cell_type": "code",
   "execution_count": null,
   "id": "9f397eec",
   "metadata": {},
   "outputs": [],
   "source": [
    "losses"
   ]
  },
  {
   "cell_type": "code",
   "execution_count": null,
   "id": "57aea683",
   "metadata": {},
   "outputs": [],
   "source": [
    "# att_img = att[iEvt].reshape(model.k_slots,*resolution)\n",
    "# plot_kslots(losses, \n",
    "#             mask[iEvt].sum(axis=0).detach().cpu().numpy(), \n",
    "#             att_img.detach().cpu().numpy(),\n",
    "#             k_slots, color=color,cmap=cmap,\n",
    "#             figname=f'{figDir}/loss-slots-iter{i}-evt{iEvt}.jpg',showImg=showImg)\n"
   ]
  }
 ],
 "metadata": {
  "kernelspec": {
   "display_name": "Python 3 (ipykernel)",
   "language": "python",
   "name": "python3"
  },
  "language_info": {
   "codemirror_mode": {
    "name": "ipython",
    "version": 3
   },
   "file_extension": ".py",
   "mimetype": "text/x-python",
   "name": "python",
   "nbconvert_exporter": "python",
   "pygments_lexer": "ipython3",
   "version": "3.10.12"
  }
 },
 "nbformat": 4,
 "nbformat_minor": 5
}
